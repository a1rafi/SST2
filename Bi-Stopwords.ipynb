{
 "cells": [
  {
   "cell_type": "code",
   "execution_count": 14,
   "metadata": {
    "executionInfo": {
     "elapsed": 611,
     "status": "ok",
     "timestamp": 1724679136210,
     "user": {
      "displayName": "AL RAFI AHMED",
      "userId": "03143731963279514978"
     },
     "user_tz": -360
    },
    "id": "QJlRBI3lV4mT"
   },
   "outputs": [],
   "source": [
    "# pip install nltk\n"
   ]
  },
  {
   "cell_type": "code",
   "execution_count": 15,
   "metadata": {
    "colab": {
     "base_uri": "https://localhost:8080/"
    },
    "executionInfo": {
     "elapsed": 13,
     "status": "ok",
     "timestamp": 1724679137051,
     "user": {
      "displayName": "AL RAFI AHMED",
      "userId": "03143731963279514978"
     },
     "user_tz": -360
    },
    "id": "3xFe1wY4Vjfo",
    "outputId": "778c6390-3580-41dd-8047-8dbcf14f86d5"
   },
   "outputs": [
    {
     "name": "stderr",
     "output_type": "stream",
     "text": [
      "[nltk_data] Downloading package punkt to /root/nltk_data...\n",
      "[nltk_data]   Package punkt is already up-to-date!\n"
     ]
    }
   ],
   "source": [
    "import pandas as pd\n",
    "import numpy as np\n",
    "import matplotlib.pyplot as plt\n",
    "import string\n",
    "from nltk.corpus import stopwords\n",
    "import nltk\n",
    "import re\n",
    "import string\n",
    "from nltk.tokenize import word_tokenize\n",
    "from nltk.corpus import stopwords\n",
    "import seaborn as sns\n",
    "nltk.download('punkt')\n",
    "from nltk.corpus import stopwords\n",
    "import spacy\n",
    "from sklearn.feature_extraction.text import ENGLISH_STOP_WORDS as sklearn_stopwords\n",
    "import nltk\n",
    "from nltk.corpus import stopwords"
   ]
  },
  {
   "cell_type": "code",
   "execution_count": 16,
   "metadata": {
    "executionInfo": {
     "elapsed": 10,
     "status": "ok",
     "timestamp": 1724679137051,
     "user": {
      "displayName": "AL RAFI AHMED",
      "userId": "03143731963279514978"
     },
     "user_tz": -360
    },
    "id": "m5gjFyN1Vxeb"
   },
   "outputs": [],
   "source": [
    "# from google.colab import drive\n",
    "# drive.mount('/content/drive')"
   ]
  },
  {
   "cell_type": "code",
   "execution_count": 17,
   "metadata": {
    "colab": {
     "base_uri": "https://localhost:8080/"
    },
    "executionInfo": {
     "elapsed": 936,
     "status": "ok",
     "timestamp": 1724679137980,
     "user": {
      "displayName": "AL RAFI AHMED",
      "userId": "03143731963279514978"
     },
     "user_tz": -360
    },
    "id": "wcGX0RsZV0hF",
    "outputId": "4f4c87c5-fc1b-43dc-b558-8af2483e9c56"
   },
   "outputs": [
    {
     "name": "stdout",
     "output_type": "stream",
     "text": [
      "<class 'pandas.core.frame.DataFrame'>\n",
      "RangeIndex: 67349 entries, 0 to 67348\n",
      "Data columns (total 3 columns):\n",
      " #   Column    Non-Null Count  Dtype \n",
      "---  ------    --------------  ----- \n",
      " 0   idx       67349 non-null  int64 \n",
      " 1   sentence  67349 non-null  object\n",
      " 2   label     67349 non-null  int64 \n",
      "dtypes: int64(2), object(1)\n",
      "memory usage: 1.5+ MB\n"
     ]
    }
   ],
   "source": [
    "df = pd.read_csv('https://raw.githubusercontent.com/a1rafi/SST2/main/raw_data_sst2.csv')\n",
    "df.info()"
   ]
  },
  {
   "cell_type": "code",
   "execution_count": 18,
   "metadata": {
    "colab": {
     "base_uri": "https://localhost:8080/",
     "height": 423
    },
    "executionInfo": {
     "elapsed": 21,
     "status": "ok",
     "timestamp": 1724679137980,
     "user": {
      "displayName": "AL RAFI AHMED",
      "userId": "03143731963279514978"
     },
     "user_tz": -360
    },
    "id": "xIi8E0LMV9zF",
    "outputId": "ad0e5870-8a03-4eaa-83d0-f0f37f645f5a"
   },
   "outputs": [
    {
     "data": {
      "application/vnd.google.colaboratory.intrinsic+json": {
       "summary": "{\n  \"name\": \"df\",\n  \"rows\": 67349,\n  \"fields\": [\n    {\n      \"column\": \"idx\",\n      \"properties\": {\n        \"dtype\": \"number\",\n        \"std\": 19442,\n        \"min\": 0,\n        \"max\": 67348,\n        \"num_unique_values\": 67349,\n        \"samples\": [\n          66730,\n          29890,\n          45801\n        ],\n        \"semantic_type\": \"\",\n        \"description\": \"\"\n      }\n    },\n    {\n      \"column\": \"sentence\",\n      \"properties\": {\n        \"dtype\": \"string\",\n        \"num_unique_values\": 66978,\n        \"samples\": [\n          \"mr. day-lewis roars with leonine power \",\n          \"a fairly slow paced , almost humdrum approach to character development \",\n          \"it 's not very interesting . \"\n        ],\n        \"semantic_type\": \"\",\n        \"description\": \"\"\n      }\n    },\n    {\n      \"column\": \"label\",\n      \"properties\": {\n        \"dtype\": \"number\",\n        \"std\": 0,\n        \"min\": 0,\n        \"max\": 1,\n        \"num_unique_values\": 2,\n        \"samples\": [\n          1,\n          0\n        ],\n        \"semantic_type\": \"\",\n        \"description\": \"\"\n      }\n    }\n  ]\n}",
       "type": "dataframe",
       "variable_name": "df"
      },
      "text/html": [
       "\n",
       "  <div id=\"df-cc652285-ea09-41d6-bc21-7ce9eaea11fa\" class=\"colab-df-container\">\n",
       "    <div>\n",
       "<style scoped>\n",
       "    .dataframe tbody tr th:only-of-type {\n",
       "        vertical-align: middle;\n",
       "    }\n",
       "\n",
       "    .dataframe tbody tr th {\n",
       "        vertical-align: top;\n",
       "    }\n",
       "\n",
       "    .dataframe thead th {\n",
       "        text-align: right;\n",
       "    }\n",
       "</style>\n",
       "<table border=\"1\" class=\"dataframe\">\n",
       "  <thead>\n",
       "    <tr style=\"text-align: right;\">\n",
       "      <th></th>\n",
       "      <th>idx</th>\n",
       "      <th>sentence</th>\n",
       "      <th>label</th>\n",
       "    </tr>\n",
       "  </thead>\n",
       "  <tbody>\n",
       "    <tr>\n",
       "      <th>0</th>\n",
       "      <td>0</td>\n",
       "      <td>hide new secretions from the parental units</td>\n",
       "      <td>0</td>\n",
       "    </tr>\n",
       "    <tr>\n",
       "      <th>1</th>\n",
       "      <td>1</td>\n",
       "      <td>contains no wit , only labored gags</td>\n",
       "      <td>0</td>\n",
       "    </tr>\n",
       "    <tr>\n",
       "      <th>2</th>\n",
       "      <td>2</td>\n",
       "      <td>that loves its characters and communicates som...</td>\n",
       "      <td>1</td>\n",
       "    </tr>\n",
       "    <tr>\n",
       "      <th>3</th>\n",
       "      <td>3</td>\n",
       "      <td>remains utterly satisfied to remain the same t...</td>\n",
       "      <td>0</td>\n",
       "    </tr>\n",
       "    <tr>\n",
       "      <th>4</th>\n",
       "      <td>4</td>\n",
       "      <td>on the worst revenge-of-the-nerds clichés the ...</td>\n",
       "      <td>0</td>\n",
       "    </tr>\n",
       "    <tr>\n",
       "      <th>...</th>\n",
       "      <td>...</td>\n",
       "      <td>...</td>\n",
       "      <td>...</td>\n",
       "    </tr>\n",
       "    <tr>\n",
       "      <th>67344</th>\n",
       "      <td>67344</td>\n",
       "      <td>a delightful comedy</td>\n",
       "      <td>1</td>\n",
       "    </tr>\n",
       "    <tr>\n",
       "      <th>67345</th>\n",
       "      <td>67345</td>\n",
       "      <td>anguish , anger and frustration</td>\n",
       "      <td>0</td>\n",
       "    </tr>\n",
       "    <tr>\n",
       "      <th>67346</th>\n",
       "      <td>67346</td>\n",
       "      <td>at achieving the modest , crowd-pleasing goals...</td>\n",
       "      <td>1</td>\n",
       "    </tr>\n",
       "    <tr>\n",
       "      <th>67347</th>\n",
       "      <td>67347</td>\n",
       "      <td>a patient viewer</td>\n",
       "      <td>1</td>\n",
       "    </tr>\n",
       "    <tr>\n",
       "      <th>67348</th>\n",
       "      <td>67348</td>\n",
       "      <td>this new jangle of noise , mayhem and stupidit...</td>\n",
       "      <td>0</td>\n",
       "    </tr>\n",
       "  </tbody>\n",
       "</table>\n",
       "<p>67349 rows × 3 columns</p>\n",
       "</div>\n",
       "    <div class=\"colab-df-buttons\">\n",
       "\n",
       "  <div class=\"colab-df-container\">\n",
       "    <button class=\"colab-df-convert\" onclick=\"convertToInteractive('df-cc652285-ea09-41d6-bc21-7ce9eaea11fa')\"\n",
       "            title=\"Convert this dataframe to an interactive table.\"\n",
       "            style=\"display:none;\">\n",
       "\n",
       "  <svg xmlns=\"http://www.w3.org/2000/svg\" height=\"24px\" viewBox=\"0 -960 960 960\">\n",
       "    <path d=\"M120-120v-720h720v720H120Zm60-500h600v-160H180v160Zm220 220h160v-160H400v160Zm0 220h160v-160H400v160ZM180-400h160v-160H180v160Zm440 0h160v-160H620v160ZM180-180h160v-160H180v160Zm440 0h160v-160H620v160Z\"/>\n",
       "  </svg>\n",
       "    </button>\n",
       "\n",
       "  <style>\n",
       "    .colab-df-container {\n",
       "      display:flex;\n",
       "      gap: 12px;\n",
       "    }\n",
       "\n",
       "    .colab-df-convert {\n",
       "      background-color: #E8F0FE;\n",
       "      border: none;\n",
       "      border-radius: 50%;\n",
       "      cursor: pointer;\n",
       "      display: none;\n",
       "      fill: #1967D2;\n",
       "      height: 32px;\n",
       "      padding: 0 0 0 0;\n",
       "      width: 32px;\n",
       "    }\n",
       "\n",
       "    .colab-df-convert:hover {\n",
       "      background-color: #E2EBFA;\n",
       "      box-shadow: 0px 1px 2px rgba(60, 64, 67, 0.3), 0px 1px 3px 1px rgba(60, 64, 67, 0.15);\n",
       "      fill: #174EA6;\n",
       "    }\n",
       "\n",
       "    .colab-df-buttons div {\n",
       "      margin-bottom: 4px;\n",
       "    }\n",
       "\n",
       "    [theme=dark] .colab-df-convert {\n",
       "      background-color: #3B4455;\n",
       "      fill: #D2E3FC;\n",
       "    }\n",
       "\n",
       "    [theme=dark] .colab-df-convert:hover {\n",
       "      background-color: #434B5C;\n",
       "      box-shadow: 0px 1px 3px 1px rgba(0, 0, 0, 0.15);\n",
       "      filter: drop-shadow(0px 1px 2px rgba(0, 0, 0, 0.3));\n",
       "      fill: #FFFFFF;\n",
       "    }\n",
       "  </style>\n",
       "\n",
       "    <script>\n",
       "      const buttonEl =\n",
       "        document.querySelector('#df-cc652285-ea09-41d6-bc21-7ce9eaea11fa button.colab-df-convert');\n",
       "      buttonEl.style.display =\n",
       "        google.colab.kernel.accessAllowed ? 'block' : 'none';\n",
       "\n",
       "      async function convertToInteractive(key) {\n",
       "        const element = document.querySelector('#df-cc652285-ea09-41d6-bc21-7ce9eaea11fa');\n",
       "        const dataTable =\n",
       "          await google.colab.kernel.invokeFunction('convertToInteractive',\n",
       "                                                    [key], {});\n",
       "        if (!dataTable) return;\n",
       "\n",
       "        const docLinkHtml = 'Like what you see? Visit the ' +\n",
       "          '<a target=\"_blank\" href=https://colab.research.google.com/notebooks/data_table.ipynb>data table notebook</a>'\n",
       "          + ' to learn more about interactive tables.';\n",
       "        element.innerHTML = '';\n",
       "        dataTable['output_type'] = 'display_data';\n",
       "        await google.colab.output.renderOutput(dataTable, element);\n",
       "        const docLink = document.createElement('div');\n",
       "        docLink.innerHTML = docLinkHtml;\n",
       "        element.appendChild(docLink);\n",
       "      }\n",
       "    </script>\n",
       "  </div>\n",
       "\n",
       "\n",
       "<div id=\"df-2cb14394-f0a5-407a-bedb-00d952cb9f9a\">\n",
       "  <button class=\"colab-df-quickchart\" onclick=\"quickchart('df-2cb14394-f0a5-407a-bedb-00d952cb9f9a')\"\n",
       "            title=\"Suggest charts\"\n",
       "            style=\"display:none;\">\n",
       "\n",
       "<svg xmlns=\"http://www.w3.org/2000/svg\" height=\"24px\"viewBox=\"0 0 24 24\"\n",
       "     width=\"24px\">\n",
       "    <g>\n",
       "        <path d=\"M19 3H5c-1.1 0-2 .9-2 2v14c0 1.1.9 2 2 2h14c1.1 0 2-.9 2-2V5c0-1.1-.9-2-2-2zM9 17H7v-7h2v7zm4 0h-2V7h2v10zm4 0h-2v-4h2v4z\"/>\n",
       "    </g>\n",
       "</svg>\n",
       "  </button>\n",
       "\n",
       "<style>\n",
       "  .colab-df-quickchart {\n",
       "      --bg-color: #E8F0FE;\n",
       "      --fill-color: #1967D2;\n",
       "      --hover-bg-color: #E2EBFA;\n",
       "      --hover-fill-color: #174EA6;\n",
       "      --disabled-fill-color: #AAA;\n",
       "      --disabled-bg-color: #DDD;\n",
       "  }\n",
       "\n",
       "  [theme=dark] .colab-df-quickchart {\n",
       "      --bg-color: #3B4455;\n",
       "      --fill-color: #D2E3FC;\n",
       "      --hover-bg-color: #434B5C;\n",
       "      --hover-fill-color: #FFFFFF;\n",
       "      --disabled-bg-color: #3B4455;\n",
       "      --disabled-fill-color: #666;\n",
       "  }\n",
       "\n",
       "  .colab-df-quickchart {\n",
       "    background-color: var(--bg-color);\n",
       "    border: none;\n",
       "    border-radius: 50%;\n",
       "    cursor: pointer;\n",
       "    display: none;\n",
       "    fill: var(--fill-color);\n",
       "    height: 32px;\n",
       "    padding: 0;\n",
       "    width: 32px;\n",
       "  }\n",
       "\n",
       "  .colab-df-quickchart:hover {\n",
       "    background-color: var(--hover-bg-color);\n",
       "    box-shadow: 0 1px 2px rgba(60, 64, 67, 0.3), 0 1px 3px 1px rgba(60, 64, 67, 0.15);\n",
       "    fill: var(--button-hover-fill-color);\n",
       "  }\n",
       "\n",
       "  .colab-df-quickchart-complete:disabled,\n",
       "  .colab-df-quickchart-complete:disabled:hover {\n",
       "    background-color: var(--disabled-bg-color);\n",
       "    fill: var(--disabled-fill-color);\n",
       "    box-shadow: none;\n",
       "  }\n",
       "\n",
       "  .colab-df-spinner {\n",
       "    border: 2px solid var(--fill-color);\n",
       "    border-color: transparent;\n",
       "    border-bottom-color: var(--fill-color);\n",
       "    animation:\n",
       "      spin 1s steps(1) infinite;\n",
       "  }\n",
       "\n",
       "  @keyframes spin {\n",
       "    0% {\n",
       "      border-color: transparent;\n",
       "      border-bottom-color: var(--fill-color);\n",
       "      border-left-color: var(--fill-color);\n",
       "    }\n",
       "    20% {\n",
       "      border-color: transparent;\n",
       "      border-left-color: var(--fill-color);\n",
       "      border-top-color: var(--fill-color);\n",
       "    }\n",
       "    30% {\n",
       "      border-color: transparent;\n",
       "      border-left-color: var(--fill-color);\n",
       "      border-top-color: var(--fill-color);\n",
       "      border-right-color: var(--fill-color);\n",
       "    }\n",
       "    40% {\n",
       "      border-color: transparent;\n",
       "      border-right-color: var(--fill-color);\n",
       "      border-top-color: var(--fill-color);\n",
       "    }\n",
       "    60% {\n",
       "      border-color: transparent;\n",
       "      border-right-color: var(--fill-color);\n",
       "    }\n",
       "    80% {\n",
       "      border-color: transparent;\n",
       "      border-right-color: var(--fill-color);\n",
       "      border-bottom-color: var(--fill-color);\n",
       "    }\n",
       "    90% {\n",
       "      border-color: transparent;\n",
       "      border-bottom-color: var(--fill-color);\n",
       "    }\n",
       "  }\n",
       "</style>\n",
       "\n",
       "  <script>\n",
       "    async function quickchart(key) {\n",
       "      const quickchartButtonEl =\n",
       "        document.querySelector('#' + key + ' button');\n",
       "      quickchartButtonEl.disabled = true;  // To prevent multiple clicks.\n",
       "      quickchartButtonEl.classList.add('colab-df-spinner');\n",
       "      try {\n",
       "        const charts = await google.colab.kernel.invokeFunction(\n",
       "            'suggestCharts', [key], {});\n",
       "      } catch (error) {\n",
       "        console.error('Error during call to suggestCharts:', error);\n",
       "      }\n",
       "      quickchartButtonEl.classList.remove('colab-df-spinner');\n",
       "      quickchartButtonEl.classList.add('colab-df-quickchart-complete');\n",
       "    }\n",
       "    (() => {\n",
       "      let quickchartButtonEl =\n",
       "        document.querySelector('#df-2cb14394-f0a5-407a-bedb-00d952cb9f9a button');\n",
       "      quickchartButtonEl.style.display =\n",
       "        google.colab.kernel.accessAllowed ? 'block' : 'none';\n",
       "    })();\n",
       "  </script>\n",
       "</div>\n",
       "\n",
       "  <div id=\"id_3a794db5-a652-4551-be0b-8ae93906be7b\">\n",
       "    <style>\n",
       "      .colab-df-generate {\n",
       "        background-color: #E8F0FE;\n",
       "        border: none;\n",
       "        border-radius: 50%;\n",
       "        cursor: pointer;\n",
       "        display: none;\n",
       "        fill: #1967D2;\n",
       "        height: 32px;\n",
       "        padding: 0 0 0 0;\n",
       "        width: 32px;\n",
       "      }\n",
       "\n",
       "      .colab-df-generate:hover {\n",
       "        background-color: #E2EBFA;\n",
       "        box-shadow: 0px 1px 2px rgba(60, 64, 67, 0.3), 0px 1px 3px 1px rgba(60, 64, 67, 0.15);\n",
       "        fill: #174EA6;\n",
       "      }\n",
       "\n",
       "      [theme=dark] .colab-df-generate {\n",
       "        background-color: #3B4455;\n",
       "        fill: #D2E3FC;\n",
       "      }\n",
       "\n",
       "      [theme=dark] .colab-df-generate:hover {\n",
       "        background-color: #434B5C;\n",
       "        box-shadow: 0px 1px 3px 1px rgba(0, 0, 0, 0.15);\n",
       "        filter: drop-shadow(0px 1px 2px rgba(0, 0, 0, 0.3));\n",
       "        fill: #FFFFFF;\n",
       "      }\n",
       "    </style>\n",
       "    <button class=\"colab-df-generate\" onclick=\"generateWithVariable('df')\"\n",
       "            title=\"Generate code using this dataframe.\"\n",
       "            style=\"display:none;\">\n",
       "\n",
       "  <svg xmlns=\"http://www.w3.org/2000/svg\" height=\"24px\"viewBox=\"0 0 24 24\"\n",
       "       width=\"24px\">\n",
       "    <path d=\"M7,19H8.4L18.45,9,17,7.55,7,17.6ZM5,21V16.75L18.45,3.32a2,2,0,0,1,2.83,0l1.4,1.43a1.91,1.91,0,0,1,.58,1.4,1.91,1.91,0,0,1-.58,1.4L9.25,21ZM18.45,9,17,7.55Zm-12,3A5.31,5.31,0,0,0,4.9,8.1,5.31,5.31,0,0,0,1,6.5,5.31,5.31,0,0,0,4.9,4.9,5.31,5.31,0,0,0,6.5,1,5.31,5.31,0,0,0,8.1,4.9,5.31,5.31,0,0,0,12,6.5,5.46,5.46,0,0,0,6.5,12Z\"/>\n",
       "  </svg>\n",
       "    </button>\n",
       "    <script>\n",
       "      (() => {\n",
       "      const buttonEl =\n",
       "        document.querySelector('#id_3a794db5-a652-4551-be0b-8ae93906be7b button.colab-df-generate');\n",
       "      buttonEl.style.display =\n",
       "        google.colab.kernel.accessAllowed ? 'block' : 'none';\n",
       "\n",
       "      buttonEl.onclick = () => {\n",
       "        google.colab.notebook.generateWithVariable('df');\n",
       "      }\n",
       "      })();\n",
       "    </script>\n",
       "  </div>\n",
       "\n",
       "    </div>\n",
       "  </div>\n"
      ],
      "text/plain": [
       "         idx                                           sentence  label\n",
       "0          0       hide new secretions from the parental units       0\n",
       "1          1               contains no wit , only labored gags       0\n",
       "2          2  that loves its characters and communicates som...      1\n",
       "3          3  remains utterly satisfied to remain the same t...      0\n",
       "4          4  on the worst revenge-of-the-nerds clichés the ...      0\n",
       "...      ...                                                ...    ...\n",
       "67344  67344                               a delightful comedy       1\n",
       "67345  67345                   anguish , anger and frustration       0\n",
       "67346  67346  at achieving the modest , crowd-pleasing goals...      1\n",
       "67347  67347                                  a patient viewer       1\n",
       "67348  67348  this new jangle of noise , mayhem and stupidit...      0\n",
       "\n",
       "[67349 rows x 3 columns]"
      ]
     },
     "execution_count": 18,
     "metadata": {},
     "output_type": "execute_result"
    }
   ],
   "source": [
    "df"
   ]
  },
  {
   "cell_type": "markdown",
   "metadata": {
    "id": "XyqXz0MA9QxF"
   },
   "source": [
    "## List of stopwords from NLTK"
   ]
  },
  {
   "cell_type": "code",
   "execution_count": 19,
   "metadata": {
    "colab": {
     "base_uri": "https://localhost:8080/"
    },
    "executionInfo": {
     "elapsed": 18,
     "status": "ok",
     "timestamp": 1724679137981,
     "user": {
      "displayName": "AL RAFI AHMED",
      "userId": "03143731963279514978"
     },
     "user_tz": -360
    },
    "id": "noylFykv9P9G",
    "outputId": "aeabfb78-7da6-47e9-e072-7dd59267f2f6"
   },
   "outputs": [
    {
     "name": "stdout",
     "output_type": "stream",
     "text": [
      "{'were', 'now', \"hasn't\", 'm', \"you're\", 'then', 'nor', 'that', \"mightn't\", \"it's\", 'up', 'shan', 'same', 'which', 'for', 'aren', 'all', 'doing', 'only', 'on', 'myself', 'you', 'me', 'y', 'below', 'out', 'ma', 's', 'to', 'herself', 'his', 'didn', 'during', 'above', 'did', 'yours', 'shouldn', \"that'll\", 'it', 'than', 'can', 'or', 'once', 'where', 'having', 'them', 'how', 'more', \"wasn't\", 'had', \"weren't\", 'those', 'any', 'further', 'in', 'not', \"she's\", 'mightn', \"don't\", \"couldn't\", 'whom', 'their', 'no', 'he', 'before', 've', 'why', 'ourselves', 'through', 'weren', 'be', 'my', 'll', \"mustn't\", \"shan't\", 'until', 'hasn', \"shouldn't\", 'yourself', 'its', 'am', 'ours', 'because', 'off', 'haven', 'from', 'i', 'of', \"hadn't\", 'what', \"aren't\", \"isn't\", \"didn't\", 'between', 'being', 'wasn', 'down', 'should', 'both', 'who', 'other', \"haven't\", 'him', 'again', 'own', 'some', 'have', 'd', 'don', 'with', 'so', 'after', 'doesn', 'yourselves', 'such', 'these', 'was', 'your', 'her', 'couldn', 'just', 'under', 'do', 'ain', 'has', 'hadn', 'there', 'they', 'into', 'each', 'won', 't', 'as', 'himself', 'does', 'the', 'about', 'this', 'too', 'our', 'most', 'been', 'themselves', \"should've\", \"needn't\", \"wouldn't\", 'theirs', 'over', 'few', \"you'll\", 'against', \"doesn't\", 'will', 'are', 'an', 'hers', 'wouldn', 'if', 'o', 'by', 'mustn', 'very', 're', 'a', \"you'd\", 'at', 'but', \"won't\", 'she', 'here', \"you've\", 'and', 'when', 'itself', 'is', 'while', 'isn', 'we', 'needn'}\n"
     ]
    },
    {
     "name": "stderr",
     "output_type": "stream",
     "text": [
      "[nltk_data] Downloading package stopwords to /root/nltk_data...\n",
      "[nltk_data]   Package stopwords is already up-to-date!\n"
     ]
    }
   ],
   "source": [
    "# Download stopwords if not already downloaded\n",
    "nltk.download('stopwords')\n",
    "\n",
    "# Load the stopwords\n",
    "stop_words = set(stopwords.words('english'))\n",
    "\n",
    "print(stop_words)"
   ]
  },
  {
   "cell_type": "markdown",
   "metadata": {
    "id": "zzESQPYQ9mL_"
   },
   "source": [
    "## List of stopwords from NLTK, Scikit-learn, SpaCy"
   ]
  },
  {
   "cell_type": "code",
   "execution_count": 20,
   "metadata": {
    "colab": {
     "base_uri": "https://localhost:8080/"
    },
    "executionInfo": {
     "elapsed": 761,
     "status": "ok",
     "timestamp": 1724679138728,
     "user": {
      "displayName": "AL RAFI AHMED",
      "userId": "03143731963279514978"
     },
     "user_tz": -360
    },
    "id": "L0_rEZOx8SQQ",
    "outputId": "60ab33f1-203c-4250-d0de-97fe37769e72"
   },
   "outputs": [
    {
     "name": "stdout",
     "output_type": "stream",
     "text": [
      "{\"hasn't\", 'seeming', 'although', 'hereupon', 'full', 'first', 'aren', 'myself', 'nobody', 'you', 'almost', 'latterly', 'throughout', 'ma', 's', 'anywhere', 'yours', 'somewhere', \"that'll\", 'somehow', 'get', 'how', 'more', 'seems', 'never', 'detail', \"weren't\", 'show', \"'re\", 'due', \"couldn't\", 'no', 'eight', 'before', 'weren', '‘re', 'my', 'hundred', 'll', 'meanwhile', \"shan't\", '’d', 'whereby', 'am', 'ours', 'behind', 'whoever', 'regarding', 'either', 'i', \"aren't\", 'also', 'find', 'call', 'other', 'ten', 'him', 'used', 'again', '‘s', 'own', 'with', 'us', 'someone', 'thence', 'via', 'these', 'anyone', 'otherwise', 'couldn', 'just', 'former', 'ain', '‘ll', 'has', 'de', 'there', 'into', 'won', 'next', 'back', 'moreover', 'per', 'move', 'as', 'hence', 'our', '’ll', 'elsewhere', 'nine', 'theirs', 'well', 'amoungst', 'beyond', 'co', 'few', 'twenty', 'whereas', 'hers', '‘ve', 'another', 'fifteen', '’m', 'seem', 'cant', 'therefore', 'less', 'and', 'while', 'much', 'however', 'now', '‘d', \"you're\", 'please', \"mightn't\", 'twelve', 'thin', 'shan', 'three', 'sometime', 'doing', 'me', 'y', 'towards', 'top', \"'ve\", 'to', 'wherever', 'his', 'bottom', 'did', \"'ll\", 'shouldn', 'it', 'beside', 'system', 'two', 'couldnt', 'upon', \"wasn't\", 'front', 'any', 'became', 'side', 'whom', 'everywhere', 'therein', 've', 'sincere', 'why', 'one', 'thick', 'sometimes', 'be', 'besides', 'until', 'hasn', 'give', \"'s\", 'among', 'of', 'always', 'between', 'hereby', 'should', 'd', 'some', 'don', 'so', 'least', 'such', 'many', 'since', 'was', 'go', '‘m', 'hadn', '’ve', 'every', 'formerly', 'most', \"should've\", 'take', 'cry', \"you'll\", '’s', 'fifty', 'using', 'others', 'hasnt', 'o', 're', 'a', \"you'd\", 'she', 'whose', 'along', 'describe', 'yet', 'were', 'anyhow', 'together', 'then', 'nor', 'un', 'up', 'same', 'which', 'thru', \"n't\", 'for', 'around', 'all', 'only', 'on', 'cannot', 'herein', 'latter', 'afterwards', 'see', 'herself', 'didn', 'above', '’re', 'than', 'empty', 'having', 'except', 'several', 'had', 'con', 'in', 'ltd', 'serious', 'rather', 'he', 'thereafter', 'everything', 'mostly', 'ourselves', 'indeed', 'done', \"mustn't\", 'beforehand', 'could', \"shouldn't\", 'its', 'off', 'perhaps', 'because', 'from', 'what', \"didn't\", 'mill', 'whole', 'both', 'becomes', 'noone', 'thus', 'after', 'nowhere', 'doesn', 'might', 'your', 'her', 'n’t', 'four', 'do', 'alone', 'still', 'everyone', 'they', 'put', 'ca', 'eleven', 'himself', 'the', 'without', 'about', 'this', 'been', 'over', 'really', 'seemed', 'often', 'will', 'nothing', 'an', 'wouldn', 'if', 'none', 'mustn', 'very', 'but', 'though', 'thereby', \"you've\", 'eg', 'isn', 'across', 'needn', 'amongst', 'm', 'that', 'whence', 'must', \"it's\", 'made', 'whereupon', 'nevertheless', 'interest', 'n‘t', 'below', 'amount', 'out', 'wherein', 'during', 'anyway', 'hereafter', 'may', 'can', 'whither', 'or', 'once', 'where', 'neither', 'them', 'else', 'anything', 'namely', 'fill', 'becoming', 'those', 'within', 'further', 'not', 'quite', \"she's\", 'mightn', \"don't\", 'keep', 'their', 'thereupon', 'found', 'unless', 'mine', 'through', 'ie', 'become', 'yourself', 'haven', \"hadn't\", 'enough', 'name', \"isn't\", 'whenever', 'third', 'being', 'wasn', 'down', \"'d\", 'who', \"haven't\", 'have', 'whatever', 'onto', 'yourselves', 'say', 'whether', 'make', 'under', 'toward', 'even', 'ever', 'each', 'bill', 'fire', 'forty', 't', 'whereafter', 'does', 'too', 'already', 'themselves', \"needn't\", \"wouldn't\", 'etc', 'against', \"doesn't\", 'are', 'six', \"'m\", 'by', 'last', 'five', 'at', 'various', \"won't\", 'part', 'something', 'inc', 'here', 'would', 'when', 'itself', 'is', 'we', 'sixty'}\n"
     ]
    }
   ],
   "source": [
    "# nltk.download('stopwords')\n",
    "nltk_stopwords = set(stopwords.words('english'))\n",
    "\n",
    "nlp = spacy.load(\"en_core_web_sm\")\n",
    "spacy_stopwords = nlp.Defaults.stop_words\n",
    "\n",
    "sklearn_stopwords = set(sklearn_stopwords)\n",
    "\n",
    "all_stopwords = nltk_stopwords.union(spacy_stopwords).union(sklearn_stopwords)\n",
    "\n",
    "print(all_stopwords)\n"
   ]
  },
  {
   "cell_type": "markdown",
   "metadata": {
    "id": "iAUV-bC4YGXP"
   },
   "source": [
    "## We are using NLTK"
   ]
  },
  {
   "cell_type": "code",
   "execution_count": 21,
   "metadata": {
    "executionInfo": {
     "elapsed": 39,
     "status": "ok",
     "timestamp": 1724679138728,
     "user": {
      "displayName": "AL RAFI AHMED",
      "userId": "03143731963279514978"
     },
     "user_tz": -360
    },
    "id": "LIlqIuqB-dK0"
   },
   "outputs": [],
   "source": [
    "l1 = list(nltk_stopwords)"
   ]
  },
  {
   "cell_type": "code",
   "execution_count": 22,
   "metadata": {
    "colab": {
     "base_uri": "https://localhost:8080/"
    },
    "executionInfo": {
     "elapsed": 39,
     "status": "ok",
     "timestamp": 1724679138729,
     "user": {
      "displayName": "AL RAFI AHMED",
      "userId": "03143731963279514978"
     },
     "user_tz": -360
    },
    "id": "O5D7jWZl-qWx",
    "outputId": "18f5e87e-d1cc-4d99-de1c-c68fab4baa34"
   },
   "outputs": [
    {
     "name": "stdout",
     "output_type": "stream",
     "text": [
      "['were', 'now', \"hasn't\", 'm', \"you're\", 'then', 'nor', 'that', \"mightn't\", \"it's\", 'up', 'shan', 'same', 'which', 'for', 'aren', 'all', 'doing', 'only', 'on', 'myself', 'you', 'me', 'y', 'below', 'out', 'ma', 's', 'to', 'herself', 'his', 'didn', 'during', 'above', 'did', 'yours', 'shouldn', \"that'll\", 'it', 'than', 'can', 'or', 'once', 'where', 'having', 'them', 'how', 'more', \"wasn't\", 'had', \"weren't\", 'those', 'any', 'further', 'in', 'not', \"she's\", 'mightn', \"don't\", \"couldn't\", 'whom', 'their', 'no', 'he', 'before', 've', 'why', 'ourselves', 'through', 'weren', 'be', 'my', 'll', \"mustn't\", \"shan't\", 'until', 'hasn', \"shouldn't\", 'yourself', 'its', 'am', 'ours', 'because', 'off', 'haven', 'from', 'i', 'of', \"hadn't\", 'what', \"aren't\", \"isn't\", \"didn't\", 'between', 'being', 'wasn', 'down', 'should', 'both', 'who', 'other', \"haven't\", 'him', 'again', 'own', 'some', 'have', 'd', 'don', 'with', 'so', 'after', 'doesn', 'yourselves', 'such', 'these', 'was', 'your', 'her', 'couldn', 'just', 'under', 'do', 'ain', 'has', 'hadn', 'there', 'they', 'into', 'each', 'won', 't', 'as', 'himself', 'does', 'the', 'about', 'this', 'too', 'our', 'most', 'been', 'themselves', \"should've\", \"needn't\", \"wouldn't\", 'theirs', 'over', 'few', \"you'll\", 'against', \"doesn't\", 'will', 'are', 'an', 'hers', 'wouldn', 'if', 'o', 'by', 'mustn', 'very', 're', 'a', \"you'd\", 'at', 'but', \"won't\", 'she', 'here', \"you've\", 'and', 'when', 'itself', 'is', 'while', 'isn', 'we', 'needn']\n"
     ]
    }
   ],
   "source": [
    "print(l1)"
   ]
  },
  {
   "cell_type": "code",
   "execution_count": 23,
   "metadata": {
    "colab": {
     "base_uri": "https://localhost:8080/"
    },
    "executionInfo": {
     "elapsed": 31,
     "status": "ok",
     "timestamp": 1724679138729,
     "user": {
      "displayName": "AL RAFI AHMED",
      "userId": "03143731963279514978"
     },
     "user_tz": -360
    },
    "id": "Wx5LuA7BZraP",
    "outputId": "0b18e49f-6017-40fb-fd87-815ab6d99d9e"
   },
   "outputs": [
    {
     "name": "stdout",
     "output_type": "stream",
     "text": [
      "Stopwords have been written to nltk_stopwords.txt\n"
     ]
    }
   ],
   "source": [
    "stopwords_string = '\\n'.join(l1)\n",
    "file_name = 'nltk_stopwords.txt'\n",
    "with open(file_name, 'w') as file:\n",
    "    file.write(stopwords_string)\n",
    "print(f\"Stopwords have been written to {file_name}\")"
   ]
  },
  {
   "cell_type": "code",
   "execution_count": 24,
   "metadata": {
    "colab": {
     "base_uri": "https://localhost:8080/"
    },
    "executionInfo": {
     "elapsed": 27,
     "status": "ok",
     "timestamp": 1724679138729,
     "user": {
      "displayName": "AL RAFI AHMED",
      "userId": "03143731963279514978"
     },
     "user_tz": -360
    },
    "id": "rsooOW9pbinE",
    "outputId": "2bf10fba-0c5b-4466-e035-20dbf42a720f"
   },
   "outputs": [
    {
     "name": "stdout",
     "output_type": "stream",
     "text": [
      "['were', 'now', \"hasn't\", 'm', \"you're\", 'then', 'nor', 'that', \"mightn't\", \"it's\", 'up', 'shan', 'same', 'which', 'for', 'aren', 'all', 'doing', 'only', 'on', 'myself', 'you', 'me', 'y', 'below', 'out', 'ma', 's', 'to', 'herself', 'his', 'didn', 'during', 'above', 'did', 'yours', 'shouldn', \"that'll\", 'it', 'than', 'can', 'or', 'once', 'where', 'having', 'them', 'how', 'more', \"wasn't\", 'had', \"weren't\", 'those', 'any', 'further', 'in', 'not', \"she's\", 'mightn', \"don't\", \"couldn't\", 'whom', 'their', 'no', 'he', 'before', 've', 'why', 'ourselves', 'through', 'weren', 'be', 'my', 'll', \"mustn't\", \"shan't\", 'until', 'hasn', \"shouldn't\", 'yourself', 'its', 'am', 'ours', 'because', 'off', 'haven', 'from', 'i', 'of', \"hadn't\", 'what', \"aren't\", \"isn't\", \"didn't\", 'between', 'being', 'wasn', 'down', 'should', 'both', 'who', 'other', \"haven't\", 'him', 'again', 'own', 'some', 'have', 'd', 'don', 'with', 'so', 'after', 'doesn', 'yourselves', 'such', 'these', 'was', 'your', 'her', 'couldn', 'just', 'under', 'do', 'ain', 'has', 'hadn', 'there', 'they', 'into', 'each', 'won', 't', 'as', 'himself', 'does', 'the', 'about', 'this', 'too', 'our', 'most', 'been', 'themselves', \"should've\", \"needn't\", \"wouldn't\", 'theirs', 'over', 'few', \"you'll\", 'against', \"doesn't\", 'will', 'are', 'an', 'hers', 'wouldn', 'if', 'o', 'by', 'mustn', 'very', 're', 'a', \"you'd\", 'at', 'but', \"won't\", 'she', 'here', \"you've\", 'and', 'when', 'itself', 'is', 'while', 'isn', 'we', 'needn']\n"
     ]
    }
   ],
   "source": [
    "import string\n",
    "allowed_chars = [\n",
    "    '!', '\"', '#', '$', '%', '&', \"'\", '(', ')', '*', '+', ',', '-', '.', '/', ':', ';', '<', '=', '>', '?', '@', '[', '\\\\', ']', '^', '_', '`', '{', '|', '}', '~',\n",
    "    '0', '1', '2', '3', '4', '5', '6', '7', '8', '9',\n",
    "    'a', 'b', 'c', 'd', 'e', 'f', 'g', 'h', 'i', 'j', 'k', 'l', 'm', 'n', 'o', 'p', 'q', 'r', 's', 't', 'u', 'v', 'w', 'x', 'y', 'z',\n",
    "    'A', 'B', 'C', 'D', 'E', 'F', 'G', 'H', 'I', 'J', 'K', 'L', 'M', 'N', 'O', 'P', 'Q', 'R', 'S', 'T', 'U', 'V', 'W', 'X', 'Y', 'Z',\n",
    "]\n",
    "allowed_set = set(allowed_chars)\n",
    "# Sample list of words\n",
    "words = l1\n",
    "#words.append('héllo') #hovlle\n",
    "def filter_word(word):\n",
    "    return ''.join(char if char in allowed_set else 'ov' for char in word)\n",
    "filtered_words = [filter_word(word) for word in words]\n",
    "print(filtered_words)\n"
   ]
  },
  {
   "cell_type": "code",
   "execution_count": null,
   "metadata": {
    "executionInfo": {
     "elapsed": 24,
     "status": "ok",
     "timestamp": 1724679138729,
     "user": {
      "displayName": "AL RAFI AHMED",
      "userId": "03143731963279514978"
     },
     "user_tz": -360
    },
    "id": "pLWeAdQD6dsz"
   },
   "outputs": [],
   "source": [
    "import string\n",
    "import random\n",
    "\n",
    "\n",
    "def create_mixed_substitution_dict(seed=42):\n",
    "    # Combine all required characters\n",
    "    chars = string.punctuation + string.digits + string.ascii_letters\n",
    "    chars = list(chars)\n",
    "\n",
    "    # Generate pairs of characters\n",
    "    pairs = [a + b for a in chars for b in chars]\n",
    "\n",
    "    # Use only pairs in the key\n",
    "    key_combined = pairs.copy()\n",
    "\n",
    "    # Set seed and shuffle the key for consistent results\n",
    "    random.seed(seed)\n",
    "    random.shuffle(key_combined)\n",
    "\n",
    "    # Ensure no character or pair maps to itself\n",
    "    valid_mapping = False\n",
    "    while not valid_mapping:\n",
    "        substitution_dict = {original: substitute for original, substitute in zip(chars + pairs, key_combined)}\n",
    "        valid_mapping = all(original != substitute for original, substitute in substitution_dict.items())\n",
    "        if not valid_mapping:\n",
    "            random.shuffle(key_combined)\n",
    "\n",
    "    return substitution_dict\n",
    "\n",
    "def sub_encrypt(plain_text, substitution_dict):\n",
    "    cipher_text = \"\"\n",
    "    i = 0\n",
    "    while i < len(plain_text):\n",
    "        # Attempt to find a pair first\n",
    "        if i + 1 < len(plain_text):\n",
    "            pair = plain_text[i:i + 2]\n",
    "            if pair in substitution_dict:\n",
    "                cipher_text += substitution_dict[pair]\n",
    "                i += 2\n",
    "                continue\n",
    "\n",
    "        # If no valid pair, fallback to single character\n",
    "        char = plain_text[i]\n",
    "        cipher_text += substitution_dict.get(char, char)\n",
    "        i += 1\n",
    "\n",
    "    return cipher_text\n",
    "\n",
    "\n",
    "def sub_decrypt(cipher_text, substitution_dict):\n",
    "    reverse_substitution_dict = {substitute: original for original, substitute in substitution_dict.items()}\n",
    "    plain_text = \"\"\n",
    "    i = 0\n",
    "    while i < len(cipher_text):\n",
    "        # Attempt to find a pair first\n",
    "        if i + 1 < len(cipher_text):\n",
    "            pair = cipher_text[i:i + 2]\n",
    "            if pair in reverse_substitution_dict:\n",
    "                plain_text += reverse_substitution_dict[pair]\n",
    "                i += 2\n",
    "                continue\n",
    "\n",
    "        # If no valid pair, fallback to single character\n",
    "        char = cipher_text[i]\n",
    "        plain_text += reverse_substitution_dict.get(char, char)\n",
    "        i += 1\n",
    "\n",
    "    return plain_text\n",
    "\n",
    "\n",
    "import string\n",
    "\n",
    "def clean_sentence(sentence):\n",
    "    # Handle potential float values\n",
    "    if isinstance(sentence, float):\n",
    "        sentence = str(sentence)\n",
    "\n",
    "    sentence = sentence.replace(',', ' ')\n",
    "    sentence = sentence.replace('(', ' ')\n",
    "    sentence = sentence.replace('{', ' ')\n",
    "    sentence = sentence.replace('[', ' ')\n",
    "\n",
    "    words = sentence.split()\n",
    "    cleaned_words = []\n",
    "    for word in words:\n",
    "        if '.' in word:\n",
    "            word = word.split('.')[0]  # Keep only the part before the first full stop\n",
    "        cleaned_words.append(word)\n",
    "\n",
    "    cleaned_sentence = ' '.join(cleaned_words)\n",
    "    cleaned_sentence = cleaned_sentence.translate(str.maketrans('', '', string.punctuation))\n",
    "\n",
    "    cleaned_sentence = cleaned_sentence.lower()\n",
    "\n",
    "    return cleaned_sentence\n",
    "\n",
    "\n",
    "\n",
    "substitution_dict = create_mixed_substitution_dict()"
   ]
  },
  {
   "cell_type": "code",
   "execution_count": 26,
   "metadata": {
    "colab": {
     "base_uri": "https://localhost:8080/"
    },
    "executionInfo": {
     "elapsed": 23,
     "status": "ok",
     "timestamp": 1724679138729,
     "user": {
      "displayName": "AL RAFI AHMED",
      "userId": "03143731963279514978"
     },
     "user_tz": -360
    },
    "id": "bhAPG_ZEAKir",
    "outputId": "8b0f2f6e-5562-40ba-c399-c90895d42e45"
   },
   "outputs": [
    {
     "name": "stdout",
     "output_type": "stream",
     "text": [
      "Plain text: were \n",
      "Cipher text: K@.T\n",
      "==================\n",
      "Plain text: now \n",
      "Cipher text: c9tK\n",
      "==================\n",
      "Plain text: hasnt \n",
      "Cipher text: Ni*R]O\n",
      "==================\n",
      "Plain text: m \n",
      "Cipher text: >R\n",
      "==================\n",
      "Plain text: youre \n",
      "Cipher text: 1m!pEZ\n",
      "==================\n",
      "Plain text: then \n",
      "Cipher text: Q+%&\n",
      "==================\n",
      "Plain text: nor \n",
      "Cipher text: c9'X\n",
      "==================\n",
      "Plain text: that \n",
      "Cipher text: Q+T0\n",
      "==================\n",
      "Plain text: mightnt \n",
      "Cipher text: #yKdIm]O\n",
      "==================\n",
      "Plain text: its \n",
      "Cipher text: zG0L\n",
      "==================\n",
      "Plain text: up \n",
      "Cipher text: PV\n",
      "==================\n",
      "Plain text: shan \n",
      "Cipher text: BoIE\n",
      "==================\n",
      "Plain text: same \n",
      "Cipher text: LpfG\n",
      "==================\n",
      "Plain text: which \n",
      "Cipher text: >IDjsc\n",
      "==================\n",
      "Plain text: for \n",
      "Cipher text: ;]'X\n",
      "==================\n",
      "Plain text: aren \n",
      "Cipher text: BQ%&\n",
      "==================\n",
      "Plain text: all \n",
      "Cipher text: &I>u\n",
      "==================\n",
      "Plain text: doing \n",
      "Cipher text: dI3evT\n",
      "==================\n",
      "Plain text: only \n",
      "Cipher text: 17ug\n",
      "==================\n",
      "Plain text: on \n",
      "Cipher text: 17\n",
      "==================\n",
      "Plain text: myself \n",
      "Cipher text: #Q?nw$\n",
      "==================\n",
      "Plain text: you \n",
      "Cipher text: 1mw'\n",
      "==================\n",
      "Plain text: me \n",
      "Cipher text: fG\n",
      "==================\n",
      "Plain text: y \n",
      "Cipher text: [f\n",
      "==================\n",
      "Plain text: below \n",
      "Cipher text: C3qttK\n",
      "==================\n",
      "Plain text: out \n",
      "Cipher text: =`]O\n",
      "==================\n",
      "Plain text: ma \n",
      "Cipher text: Uk\n",
      "==================\n",
      "Plain text: s \n",
      "Cipher text: 0L\n",
      "==================\n",
      "Plain text: to \n",
      "Cipher text: #r\n",
      "==================\n",
      "Plain text: herself \n",
      "Cipher text: 2K&9Ty~E\n",
      "==================\n",
      "Plain text: his \n",
      "Cipher text: e#0L\n",
      "==================\n",
      "Plain text: didn \n",
      "Cipher text: `x?w\n",
      "==================\n",
      "Plain text: during \n",
      "Cipher text: RZ:Ap6\n",
      "==================\n",
      "Plain text: above \n",
      "Cipher text: i{'mEZ\n",
      "==================\n",
      "Plain text: did \n",
      "Cipher text: `xn_\n",
      "==================\n",
      "Plain text: yours \n",
      "Cipher text: 1m!p0L\n",
      "==================\n",
      "Plain text: shouldn \n",
      "Cipher text: Bo=`PHA\"\n",
      "==================\n",
      "Plain text: thatll \n",
      "Cipher text: Q+T0]}\n",
      "==================\n",
      "Plain text: it \n",
      "Cipher text: zG\n",
      "==================\n",
      "Plain text: than \n",
      "Cipher text: Q+IE\n",
      "==================\n",
      "Plain text: can \n",
      "Cipher text: ~iA\"\n",
      "==================\n",
      "Plain text: or \n",
      "Cipher text: ly\n",
      "==================\n",
      "Plain text: once \n",
      "Cipher text: 17O,\n",
      "==================\n",
      "Plain text: where \n",
      "Cipher text: >IZWEZ\n",
      "==================\n",
      "Plain text: having \n",
      "Cipher text: NiI/p6\n",
      "==================\n",
      "Plain text: them \n",
      "Cipher text: Q+d}\n",
      "==================\n",
      "Plain text: how \n",
      "Cipher text: iFtK\n",
      "==================\n",
      "Plain text: more \n",
      "Cipher text: R5.T\n",
      "==================\n",
      "Plain text: wasnt \n",
      "Cipher text: +U*R]O\n",
      "==================\n",
      "Plain text: had \n",
      "Cipher text: Nin_\n",
      "==================\n",
      "Plain text: werent \n",
      "Cipher text: K@.Tr^\n",
      "==================\n",
      "Plain text: those \n",
      "Cipher text: Q+9[EZ\n",
      "==================\n",
      "Plain text: any \n",
      "Cipher text: IE[f\n",
      "==================\n",
      "Plain text: further \n",
      "Cipher text: k7=\"2K'X\n",
      "==================\n",
      "Plain text: in \n",
      "Cipher text: 3e\n",
      "==================\n",
      "Plain text: not \n",
      "Cipher text: c9]O\n",
      "==================\n",
      "Plain text: shes \n",
      "Cipher text: Bozj\n",
      "==================\n",
      "Plain text: mightn \n",
      "Cipher text: #yKdIm\n",
      "==================\n",
      "Plain text: dont \n",
      "Cipher text: dIr^\n",
      "==================\n",
      "Plain text: couldnt \n",
      "Cipher text: @-aT?w]O\n",
      "==================\n",
      "Plain text: whom \n",
      "Cipher text: >IQ[\n",
      "==================\n",
      "Plain text: their \n",
      "Cipher text: Q+#s'X\n",
      "==================\n",
      "Plain text: no \n",
      "Cipher text: c9\n",
      "==================\n",
      "Plain text: he \n",
      "Cipher text: 2K\n",
      "==================\n",
      "Plain text: before \n",
      "Cipher text: C3;].T\n",
      "==================\n",
      "Plain text: ve \n",
      "Cipher text: J_\n",
      "==================\n",
      "Plain text: why \n",
      "Cipher text: >I[f\n",
      "==================\n",
      "Plain text: ourselves \n",
      "Cipher text: =`&9TyJ_0L\n",
      "==================\n",
      "Plain text: through \n",
      "Cipher text: Q+[w9]sc\n",
      "==================\n",
      "Plain text: weren \n",
      "Cipher text: K@.TA\"\n",
      "==================\n",
      "Plain text: be \n",
      "Cipher text: C3\n",
      "==================\n",
      "Plain text: my \n",
      "Cipher text: #Q\n",
      "==================\n",
      "Plain text: ll \n",
      "Cipher text: ]}\n",
      "==================\n",
      "Plain text: mustnt \n",
      "Cipher text: wP}@r^\n",
      "==================\n",
      "Plain text: shant \n",
      "Cipher text: BoIE]O\n",
      "==================\n",
      "Plain text: until \n",
      "Cipher text: EOV)>u\n",
      "==================\n",
      "Plain text: hasn \n",
      "Cipher text: Ni*R\n",
      "==================\n",
      "Plain text: shouldnt \n",
      "Cipher text: Bo=`PHr^\n",
      "==================\n",
      "Plain text: yourself \n",
      "Cipher text: 1m!p?nw$\n",
      "==================\n",
      "Plain text: its \n",
      "Cipher text: zG0L\n",
      "==================\n",
      "Plain text: am \n",
      "Cipher text: R~\n",
      "==================\n",
      "Plain text: ours \n",
      "Cipher text: =`&9\n",
      "==================\n",
      "Plain text: because \n",
      "Cipher text: C3~ig+EZ\n",
      "==================\n",
      "Plain text: off \n",
      "Cipher text: n]~E\n",
      "==================\n",
      "Plain text: haven \n",
      "Cipher text: NiJ_A\"\n",
      "==================\n",
      "Plain text: from \n",
      "Cipher text: ^HQ[\n",
      "==================\n",
      "Plain text: i \n",
      "Cipher text: W&\n",
      "==================\n",
      "Plain text: of \n",
      "Cipher text: n]\n",
      "==================\n",
      "Plain text: hadnt \n",
      "Cipher text: Ni?w]O\n",
      "==================\n",
      "Plain text: what \n",
      "Cipher text: >IT0\n",
      "==================\n",
      "Plain text: arent \n",
      "Cipher text: BQ%&]O\n",
      "==================\n",
      "Plain text: isnt \n",
      "Cipher text: {Tr^\n",
      "==================\n",
      "Plain text: didnt \n",
      "Cipher text: `x?w]O\n",
      "==================\n",
      "Plain text: between \n",
      "Cipher text: C3j|#BA\"\n",
      "==================\n",
      "Plain text: being \n",
      "Cipher text: C33evT\n",
      "==================\n",
      "Plain text: wasn \n",
      "Cipher text: +U*R\n",
      "==================\n",
      "Plain text: down \n",
      "Cipher text: dI{R\n",
      "==================\n",
      "Plain text: should \n",
      "Cipher text: Bo=`PH\n",
      "==================\n",
      "Plain text: both \n",
      "Cipher text: ,8Q+\n",
      "==================\n",
      "Plain text: who \n",
      "Cipher text: >I<>\n",
      "==================\n"
     ]
    }
   ],
   "source": [
    "encryptedSW = []\n",
    "Ctext = []\n",
    "for plain_text in filtered_words:\n",
    "    cipher_text = \"\"\n",
    "    #for letter in plain_text:\n",
    "        #cipher_text += substitution_dict.get(letter, \"ov\") #If letter is not a key in the dictionary, it returns \"ov\" as the default value. (just in case)\n",
    "    cipher_text += sub_encrypt(clean_sentence(plain_text),substitution_dict)\n",
    "    encryptedSW.append((clean_sentence(plain_text), cipher_text))\n",
    "    Ctext.append(cipher_text)\n",
    "#print(encryptedSW)\n",
    "encryptedSW100 = encryptedSW[:100]\n",
    "for plain_text, cipher_text in encryptedSW100:\n",
    "    print(f\"Plain text: {plain_text} \\nCipher text: {cipher_text}\")\n",
    "    print(\"==================\")"
   ]
  },
  {
   "cell_type": "code",
   "execution_count": 27,
   "metadata": {
    "colab": {
     "base_uri": "https://localhost:8080/"
    },
    "executionInfo": {
     "elapsed": 18,
     "status": "ok",
     "timestamp": 1724679138729,
     "user": {
      "displayName": "AL RAFI AHMED",
      "userId": "03143731963279514978"
     },
     "user_tz": -360
    },
    "id": "XaX4BRTbY1xc",
    "outputId": "7febfeba-1e8d-4968-d02c-5f7594518179"
   },
   "outputs": [
    {
     "name": "stdout",
     "output_type": "stream",
     "text": [
      "Total cypher stopwords:  178\n"
     ]
    }
   ],
   "source": [
    "#print(Ctext)\n",
    "mylist = list(set(Ctext))\n",
    "#print(mylist)\n",
    "print(\"Total cypher stopwords: \", len(mylist))"
   ]
  },
  {
   "cell_type": "code",
   "execution_count": 28,
   "metadata": {
    "executionInfo": {
     "elapsed": 11,
     "status": "ok",
     "timestamp": 1724679138729,
     "user": {
      "displayName": "AL RAFI AHMED",
      "userId": "03143731963279514978"
     },
     "user_tz": -360
    },
    "id": "MFGenjVkc7eT"
   },
   "outputs": [],
   "source": [
    "with open('all_bi_cypher_Stopwords.txt', 'w') as file:\n",
    "  for cipher_text in mylist:\n",
    "    file.write(cipher_text + '\\n')"
   ]
  }
 ],
 "metadata": {
  "colab": {
   "provenance": []
  },
  "kernelspec": {
   "display_name": "Python 3",
   "name": "python3"
  },
  "language_info": {
   "name": "python"
  }
 },
 "nbformat": 4,
 "nbformat_minor": 0
}
